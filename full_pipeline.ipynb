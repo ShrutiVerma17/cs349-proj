{
 "cells": [
  {
   "cell_type": "code",
   "execution_count": 1,
   "id": "1883387e-2829-499b-baeb-9e88d7da49fb",
   "metadata": {},
   "outputs": [
    {
     "name": "stderr",
     "output_type": "stream",
     "text": [
      "/nlp/scr/ananthag/miniconda3/envs/spec/lib/python3.12/site-packages/tqdm/auto.py:21: TqdmWarning: IProgress not found. Please update jupyter and ipywidgets. See https://ipywidgets.readthedocs.io/en/stable/user_install.html\n",
      "  from .autonotebook import tqdm as notebook_tqdm\n"
     ]
    }
   ],
   "source": [
    "from transformers import AutoTokenizer, AutoModelForCausalLM\n",
    "\n",
    "# from collections.abc import Sequence\n",
    "from typing import Sequence\n",
    "import torch\n",
    "import numpy as np\n",
    "import time\n",
    "\n",
    "_SSM_NAME = \"JackFram/llama-160m\"\n",
    "_LLM_NAME = 'openlm-research/open_llama_3b_v2'\n",
    "device = \"cuda\"\n",
    "\n",
    "assert torch.cuda.is_available()\n",
    "tokenizer = AutoTokenizer.from_pretrained(_SSM_NAME)\n",
    "ssm = AutoModelForCausalLM.from_pretrained(_SSM_NAME).cuda()\n",
    "llm = AutoModelForCausalLM.from_pretrained(_LLM_NAME, torch_dtype=torch.float16).cuda().eval()"
   ]
  },
  {
   "cell_type": "markdown",
   "id": "b227e30d",
   "metadata": {},
   "source": [
    "### GPU Profiling"
   ]
  },
  {
   "cell_type": "code",
   "execution_count": 13,
   "id": "e9e0930e",
   "metadata": {},
   "outputs": [],
   "source": [
    "from torch.profiler import profile, ProfilerActivity, schedule\n",
    "\n",
    "# Guide: https://pytorch.org/tutorials/recipes/recipes/profiler_recipe.html\n",
    "\n",
    "_N_ITERATIONS = 10\n",
    "_WAIT_STEPS = 1\n",
    "_WARMUP_STEPS = 1\n",
    "schedule_params = {\n",
    "    'wait': _WAIT_STEPS,\n",
    "    'warmup': _WARMUP_STEPS,\n",
    "    'active': _N_ITERATIONS - _WAIT_STEPS - _WARMUP_STEPS,\n",
    "}\n",
    "profiler_kwargs = {\n",
    "    'activities': [ProfilerActivity.CPU, ProfilerActivity.CUDA],\n",
    "    'profile_memory': True,\n",
    "    'schedule': schedule(**schedule_params),\n",
    "    'record_shapes': True,\n",
    "    'with_stack': True,\n",
    "    'on_trace_ready': torch.profiler.tensorboard_trace_handler('./log'),\n",
    "}\n",
    "\n",
    "from torch.nn.attention import SDPBackend, sdpa_kernel\n",
    "\n",
    "\n",
    "def print_normal_profile_stats(input, model):\n",
    "    with profile(**profiler_kwargs) as prof, torch.inference_mode(), sdpa_kernel(\n",
    "        [SDPBackend.EFFICIENT_ATTENTION, SDPBackend.MATH, SDPBackend.CUDNN_ATTENTION]\n",
    "    ):\n",
    "        for _ in range(_N_ITERATIONS):\n",
    "            model(input_ids=input)\n",
    "            prof.step()\n",
    "\n",
    "def print_tree_profile_stats(input, mask, position_ids, model):\n",
    "    with profile(**profiler_kwargs) as prof, torch.inference_mode(), sdpa_kernel(\n",
    "        [SDPBackend.EFFICIENT_ATTENTION, SDPBackend.MATH, SDPBackend.CUDNN_ATTENTION]\n",
    "    ):\n",
    "        for _ in range(_N_ITERATIONS):\n",
    "            model(input_ids=input, attention_mask=mask, position_ids=position_ids)\n",
    "            prof.step()"
   ]
  },
  {
   "cell_type": "code",
   "execution_count": 15,
   "id": "d04c551a",
   "metadata": {},
   "outputs": [
    {
     "name": "stdout",
     "output_type": "stream",
     "text": [
      "torch.Size([32, 16])\n"
     ]
    },
    {
     "name": "stderr",
     "output_type": "stream",
     "text": [
      "STAGE:2024-06-11 01:01:30 578429:578429 ActivityProfilerController.cpp:314] Completed Stage: Warm Up\n",
      "STAGE:2024-06-11 01:01:31 578429:578429 ActivityProfilerController.cpp:320] Completed Stage: Collection\n",
      "STAGE:2024-06-11 01:01:31 578429:578429 ActivityProfilerController.cpp:324] Completed Stage: Post Processing\n"
     ]
    },
    {
     "name": "stdout",
     "output_type": "stream",
     "text": [
      "torch.Size([1, 512])\n"
     ]
    },
    {
     "name": "stderr",
     "output_type": "stream",
     "text": [
      "STAGE:2024-06-11 01:01:43 578429:578429 ActivityProfilerController.cpp:314] Completed Stage: Warm Up\n",
      "STAGE:2024-06-11 01:01:44 578429:578429 ActivityProfilerController.cpp:320] Completed Stage: Collection\n",
      "STAGE:2024-06-11 01:01:44 578429:578429 ActivityProfilerController.cpp:324] Completed Stage: Post Processing\n"
     ]
    }
   ],
   "source": [
    "from experiments import create_token_tree, create_dummy_kv_cache, construct_tree_model_inputs, invert_4d_attention_mask\n",
    "import numpy as np\n",
    "\n",
    "expansion_config = [32] + [1] * 15\n",
    "kv_size = 128\n",
    "\n",
    "token_tree = create_token_tree(\n",
    "        expansion_config=expansion_config,\n",
    "        prompt=\"The\",\n",
    "        tokenizer=tokenizer,\n",
    "        model=ssm,\n",
    "        has_kv_cache=True\n",
    ")\n",
    "print(token_tree.shape)\n",
    "\n",
    "kv_cache_sequential = create_dummy_kv_cache(\n",
    "        kv_cache_num_tokens=kv_size,\n",
    "        batch_size=np.prod(expansion_config),\n",
    "        num_attention_heads=llm.config.num_attention_heads,\n",
    "        hidden_size=llm.config.hidden_size,\n",
    "        num_layers=llm.config.num_hidden_layers\n",
    ")\n",
    "print_normal_profile_stats(token_tree, llm)\n",
    "\n",
    "tree_input, tree_mask, tree_position_ids = construct_tree_model_inputs(token_tree)\n",
    "kv_cache_tree = create_dummy_kv_cache(\n",
    "                    kv_cache_num_tokens=kv_size,\n",
    "                    batch_size=1,\n",
    "                    num_attention_heads=llm.config.num_attention_heads,\n",
    "                    hidden_size=llm.config.hidden_size,\n",
    "                    num_layers=llm.config.num_hidden_layers,\n",
    "                )\n",
    "print(tree_input.shape)\n",
    "tree_mask = invert_4d_attention_mask(tree_mask, kv_size)\n",
    "\n",
    "print_tree_profile_stats(tree_input, tree_mask, tree_position_ids, llm)"
   ]
  },
  {
   "cell_type": "code",
   "execution_count": 20,
   "id": "f68d28f1",
   "metadata": {},
   "outputs": [
    {
     "name": "stdout",
     "output_type": "stream",
     "text": [
      "past key values None\n",
      "past key values None\n",
      "past key values None\n",
      "Normal: 19.76176118850708 GB\n",
      "Tree: 19.75322389602661 GB\n"
     ]
    }
   ],
   "source": [
    "# Measure max memory allocated\n",
    "import gc\n",
    "\n",
    "def reset_memory():\n",
    "    gc.collect()\n",
    "    torch.cuda.empty_cache()\n",
    "    torch.cuda.reset_max_memory_allocated()\n",
    "    torch.cuda.synchronize()\n",
    "\n",
    "def end_memory_collection():\n",
    "    torch.cuda.synchronize()\n",
    "    max_mem_gb = torch.cuda.max_memory_allocated() / 1024**3\n",
    "    return max_mem_gb\n",
    "\n",
    "token_tree = _create_token_tree([2, 2, 2], \"The good dog is\", tokenizer, ssm)\n",
    "reset_memory()\n",
    "time_normal(token_tree, llm, kv_cache=None)\n",
    "seq_max_mem_gb = end_memory_collection()\n",
    "\n",
    "tree_input, tree_mask, tree_position_ids = construct_tree_model_inputs(token_tree)\n",
    "tree_mask = _invert_4d_attention_mask(tree_mask)\n",
    "reset_memory()\n",
    "time_tree(input_ids=tree_input, mask=tree_mask, position_ids=tree_position_ids, model=llm, kv_cache=None)\n",
    "tree_max_mem_gb = end_memory_collection()\n",
    "\n",
    "print(f\"Normal: {seq_max_mem_gb} GB\")\n",
    "print(f\"Tree: {tree_max_mem_gb} GB\")"
   ]
  },
  {
   "cell_type": "code",
   "execution_count": 21,
   "id": "832d137b-17d8-4813-9e1e-3d4b5d06b95e",
   "metadata": {},
   "outputs": [
    {
     "name": "stdout",
     "output_type": "stream",
     "text": [
      "tensor([[    1,   450,  1781, 11203, 29892,   278,  1781, 11203],\n",
      "        [    1,   450,  1781, 11203,   338,   263,  1781, 11203],\n",
      "        [    1,   450,  1781, 11203, 29889,    13, 29902, 30010],\n",
      "        [    1,   450,  1781, 11203, 12271,   674,   367,  2221],\n",
      "        [    1,   450,  1781, 11203,   674,   367,   263,  1781],\n",
      "        [    1,   450,  1781, 11203,   756,   263,  1781,  5192],\n",
      "        [    1,   450,  1781, 11203,  1914,   414,  1073,   393],\n",
      "        [    1,   450,  1781, 11203,   322,   278,  4319, 11203],\n",
      "        [    1,   450,  1781, 11203,  9687,   338,   263,  2107],\n",
      "        [    1,   450,  1781, 11203,   471,   263,  2586,   310],\n",
      "        [    1,   450,  1781, 11203, 30010, 29879,  2834,   338],\n",
      "        [    1,   450,  1781, 11203,   723,   505,  1063,   263],\n",
      "        [    1,   450,  1781, 11203,   508,   367,   263,  1781],\n",
      "        [    1,   450,  1781, 11203,  3841,   310, 11801,   526],\n",
      "        [    1,   450,  1781, 11203,  4947,   263,  1781,  4982],\n",
      "        [    1,   450,  1781, 11203,   658,   369,   674,  5360],\n",
      "        [    1,   450,  1781, 11203,   750,   263,  1781,  2834],\n",
      "        [    1,   450,  1781, 11203, 29915, 29879,  2834,   338],\n",
      "        [    1,   450,  1781, 11203,   297,   278,  3699, 29889],\n",
      "        [    1,   450,  1781, 11203, 29991,    13, 29902, 29915],\n",
      "        [    1,   450,  1781, 11203, 29973,    13, 29902, 30010],\n",
      "        [    1,   450,  1781, 11203,   881,   367,  2221,   304],\n",
      "        [    1,   450,  1781, 11203,  6694,   338,   304,  6860],\n",
      "        [    1,   450,  1781, 11203, 12355,   267,   304,   367],\n",
      "        [    1,   450,  1781, 11203,  2078,   287,   414,   526],\n",
      "        [    1,   450,  1781, 11203,   310,   278,  2462, 29889],\n",
      "        [    1,   450,  1781, 11203,  1058,   338,   263,  1781],\n",
      "        [    1,   450,  1781, 11203, 29899, 18326,   368,  7600],\n",
      "        [    1,   450,  1781, 11203,   289,   935,   292,   472],\n",
      "        [    1,   450,  1781, 11203,  9906,   920,   304,   679],\n",
      "        [    1,   450,  1781, 11203,  2586,   267, 29889,    13],\n",
      "        [    1,   450,  1781, 11203,   470,  6635,   338,   263]],\n",
      "       device='cuda:0')\n",
      "Sequential 0.020084268413484097\n",
      "Tree 0.018649176694452763\n"
     ]
    }
   ],
   "source": [
    "import torch.utils.benchmark as benchmark\n",
    "import numpy as np\n",
    "import matplotlib.pyplot as plt\n",
    "\n",
    "N_ITERATIONS = 32\n",
    "\n",
    "tree_widths = [4] #range(1, 4)\n",
    "sequential_times = []\n",
    "tree_times = []\n",
    "\n",
    "kv_cache_num_tokens = 128\n",
    "\n",
    "for tree_width in tree_widths:\n",
    "    expansion_config = (32, 1, 1, 1)\n",
    "\n",
    "    token_tree = _create_token_tree(\n",
    "        expansion_config=expansion_config,\n",
    "        prompt=\"The good dog is\",\n",
    "        tokenizer=tokenizer,\n",
    "        model=ssm,\n",
    "    )\n",
    "    print(token_tree)\n",
    "\n",
    "    batch_size=np.prod(expansion_config)\n",
    "    # kv_cache_sequential = _create_dummy_kv_cache(\n",
    "    #     kv_cache_num_tokens=kv_cache_num_tokens,\n",
    "    #     batch_size=batch_size,\n",
    "    #     num_attention_heads=llm.config.num_attention_heads,\n",
    "    #     hidden_size=llm.config.hidden_size,\n",
    "    #     num_layers=llm.config.num_hidden_layers\n",
    "    # )\n",
    "    \n",
    "    sequential_timer = benchmark.Timer(\n",
    "        stmt=\"time_normal(input_ids, model, kv_cache)\",\n",
    "        setup=\"from __main__ import time_normal\",\n",
    "        num_threads=torch.get_num_threads(),\n",
    "        globals={\n",
    "            'input_ids': token_tree,\n",
    "            'model': llm,\n",
    "            'kv_cache': None\n",
    "        },\n",
    "        label=\"Sequential\"\n",
    "    )\n",
    "    \n",
    "    \n",
    "    sequential_measurement = sequential_timer.blocked_autorange(min_run_time=2)\n",
    "    print('Sequential', sequential_measurement.median)\n",
    "    \n",
    "    # print(len(sequential_measurement.times))\n",
    "    # print(sequential_measurement.mean)\n",
    "    # sequential_times.append(sequential_measurement.times[-1])\n",
    "    \n",
    "    # construct inputs for tree decoding\n",
    "    # kv_cache_tree = _create_dummy_kv_cache(\n",
    "    #     kv_cache_num_tokens=kv_cache_num_tokens,\n",
    "    #     batch_size=1,\n",
    "    #     num_attention_heads=llm.config.num_attention_heads,\n",
    "    #     hidden_size=llm.config.hidden_size,\n",
    "    #     num_layers=llm.config.num_hidden_layers\n",
    "    # )\n",
    "    tree_input, tree_mask, tree_position_ids = construct_tree_model_inputs(token_tree)\n",
    "    # print(tree_input, tree_mask, tree_position_ids)\n",
    "    # Required for 4D mask support in new HF\n",
    "    # tree_mask = _invert_4d_attention_mask(tree_mask, kv_cache_num_tokens)\n",
    "\n",
    "    tree_timer = benchmark.Timer(\n",
    "        stmt=\"time_tree(input_ids, mask, position_ids, model, kv_cache_num_tokens, kv_cache)\",\n",
    "        setup=\"from __main__ import time_tree\",\n",
    "        num_threads=torch.get_num_threads(),\n",
    "        globals={\n",
    "            'input_ids': tree_input,\n",
    "            'mask': tree_mask,\n",
    "            'position_ids': tree_position_ids,\n",
    "            'model': llm,\n",
    "            'kv_cache_num_tokens': 0,\n",
    "            'kv_cache': None\n",
    "        },\n",
    "        label=\"Tree\"\n",
    "    )\n",
    "    tree_measurement = tree_timer.blocked_autorange(min_run_time=2)\n",
    "    print('Tree', tree_measurement.median)\n",
    "    # tree_times.append(tree_measurement.times[-1])\n",
    "    # violin = plt.violinplot([np.array(sequential_measurement.times) * 1000, np.array(tree_measurement.times) * 1000], showmeans=True)\n",
    "    # plt.xticks([1, 2], ['Sequential', 'Tree'])\n",
    "    # plt.ylabel(\"Latency (ms)\")\n",
    "    # plt.legend(handles = [violin['cmeans']],labels=['mean'])\n",
    "\n",
    "    # print_normal_profile_stats(token_tree, llm)\n",
    "    # print_tree_profile_stats(tree_input, tree_mask, tree_position_ids, llm)"
   ]
  },
  {
   "cell_type": "code",
   "execution_count": 12,
   "id": "75554c5b",
   "metadata": {},
   "outputs": [
    {
     "data": {
      "image/png": "[encoded data removed]",
      "text/plain": [
       "<Figure size 1000x600 with 1 Axes>"
      ]
     },
     "metadata": {},
     "output_type": "display_data"
    },
    {
     "data": {
      "text/plain": [
       "<Figure size 640x480 with 0 Axes>"
      ]
     },
     "metadata": {},
     "output_type": "display_data"
    }
   ],
   "source": [
    "import matplotlib.pyplot as plt\n",
    "import numpy as np\n",
    "\n",
    "width = 0.35\n",
    "plt.figure(figsize=(10, 6))\n",
    "\n",
    "x_data = tree_widths\n",
    "y_sequential = np.array(sequential_times) * 1000 # scale to ms\n",
    "plt.bar(x_data, y_sequential, label=\"Sequential\", width=width)  # Plot the first list as the y-axis values\n",
    "y_tree = np.array(tree_times) * 1000 # scale to ms\n",
    "plt.bar([pos + width for pos in x_data], y_tree, label=\"Tree\", width=width)  # Plot the second list as the y-axis values\n",
    "\n",
    "plt.xlabel(\"Tree Width\")\n",
    "plt.ylabel(\"Latency (ms)\")\n",
    "plt.legend()\n",
    "\n",
    "plt.show()\n",
    "plt.savefig(\"tree_vs_sequential.png\")"
   ]
  },
  {
   "cell_type": "code",
   "execution_count": 10,
   "id": "7cae5d21",
   "metadata": {},
   "outputs": [
    {
     "name": "stdout",
     "output_type": "stream",
     "text": [
      "Memory-bound: arithmetic intensity 7.448872654272583 < 27.0\n"
     ]
    },
    {
     "name": "stderr",
     "output_type": "stream",
     "text": [
      "/nlp/scr/ananthag/miniconda3/envs/spec/lib/python3.12/site-packages/huggingface_hub/file_download.py:1132: FutureWarning: `resume_download` is deprecated and will be removed in version 1.0.0. Downloads always resume when possible. If you want to force a new download, use `force_download=True`.\n",
      "  warnings.warn(\n"
     ]
    }
   ],
   "source": [
    "import metrics\n",
    "from transformers import AutoConfig\n",
    "\n",
    "mistral_7b_config = AutoConfig.from_pretrained(\"mistralai/Mistral-7B-v0.1\")\n",
    "\n",
    "metrics.identify_compute_memory_bound(\n",
    "    gpu=metrics.T4,\n",
    "    token_batch=torch.ones(1, np.sum(np.cumprod(expansion_config))),\n",
    "    dtype=torch.float32,\n",
    "    num_layers=mistral_7b_config.num_hidden_layers,\n",
    "    d_model=mistral_7b_config.hidden_size,\n",
    "    n_head=mistral_7b_config.num_attention_heads,\n",
    "    vocab_size=mistral_7b_config.vocab_size,\n",
    "    kv_cache_token_count=0\n",
    ")"
   ]
  },
  {
   "cell_type": "code",
   "execution_count": 7,
   "id": "c48c526c",
   "metadata": {},
   "outputs": [
    {
     "data": {
      "text/plain": [
       "216.66666666666669"
      ]
     },
     "execution_count": 7,
     "metadata": {},
     "output_type": "execute_result"
    }
   ],
   "source": [
    "import metrics\n",
    "\n",
    "ratio = metrics.T4.tflops / metrics.T4.memory_bandwidth_tb_s\n",
    "ratio"
   ]
  },
  {
   "cell_type": "code",
   "execution_count": 15,
   "id": "6940dc4a",
   "metadata": {},
   "outputs": [
    {
     "name": "stdout",
     "output_type": "stream",
     "text": [
      "(2, 1, 1) [2 2 2]\n",
      "Sequential\n",
      "0.00661912418\n",
      "Memory-bound: arithmetic intensity 5.978649773571705 < 94.89583333333333\n",
      "Tree\n",
      "0.0066193052959999995\n",
      "Memory-bound: arithmetic intensity 5.9794024886444825 < 94.89583333333333\n",
      "(3, 1, 1, 1) [3 3 3 3]\n",
      "Sequential\n",
      "0.006643808064\n",
      "Memory-bound: arithmetic intensity 11.913482947962537 < 94.89583333333333\n",
      "Tree\n",
      "0.006644773184\n",
      "Memory-bound: arithmetic intensity 11.91662078559219 < 94.89583333333333\n",
      "(4, 1, 1) [4 4 4]\n",
      "Sequential\n",
      "0.006643687892\n",
      "Memory-bound: arithmetic intensity 11.91308981496628 < 94.89583333333333\n",
      "Tree\n",
      "0.006644773184\n",
      "Memory-bound: arithmetic intensity 11.91662078559219 < 94.89583333333333\n",
      "(16, 1, 1) [16 16 16]\n",
      "Sequential\n",
      "0.006791070164\n",
      "Memory-bound: arithmetic intensity 46.61819044636806 < 94.89583333333333\n",
      "Tree\n",
      "0.0068127549439999996\n",
      "Memory-bound: arithmetic intensity 46.5766402062443 < 94.89583333333333\n",
      "(32, 1, 1) [32 32 32]\n",
      "Sequential\n",
      "0.00698757986\n",
      "Memory-bound: arithmetic intensity 90.61432100469762 < 94.89583333333333\n",
      "Tree\n",
      "0.007077195776\n",
      "Memory-bound: arithmetic intensity 89.89198596390504 < 94.89583333333333\n"
     ]
    }
   ],
   "source": [
    "import itertools\n",
    "import metrics\n",
    "import numpy as np\n",
    "import torch\n",
    "\n",
    "_PROMPT_LENGTH = 0\n",
    "gpu = metrics.A6000\n",
    "kv_cache_token_length = 0\n",
    "\n",
    "for expansion_config in [(2, 1, 1), (3, 1, 1, 1), (4, 1, 1), (16, 1, 1), (32, 1, 1)]:#itertools.product(range(2, 5), range(1, 4)):\n",
    "    print(expansion_config, np.cumprod(expansion_config))\n",
    "    print(\"Sequential\")\n",
    "    metrics.identify_compute_memory_bound(\n",
    "        gpu=gpu,\n",
    "        token_batch=torch.ones(np.prod(expansion_config), _PROMPT_LENGTH + len(expansion_config)),\n",
    "        dtype=torch.float16,\n",
    "        num_layers=llm.config.num_hidden_layers,\n",
    "        d_model=llm.config.hidden_size,\n",
    "        n_head=llm.config.num_attention_heads,\n",
    "        vocab_size=llm.config.vocab_size,\n",
    "        kv_cache_token_count=kv_cache_token_length  \n",
    "    )\n",
    "    print(\"Tree\")\n",
    "    metrics.identify_compute_memory_bound(\n",
    "        gpu=gpu,\n",
    "        token_batch=torch.ones(1, _PROMPT_LENGTH + np.sum(np.cumprod(expansion_config))),\n",
    "        dtype=torch.float16,\n",
    "        num_layers=llm.config.num_hidden_layers,\n",
    "        d_model=llm.config.hidden_size,\n",
    "        n_head=llm.config.num_attention_heads,\n",
    "        vocab_size=llm.config.vocab_size,\n",
    "        kv_cache_token_count=kv_cache_token_length\n",
    "    )\n",
    "\n"
   ]
  },
  {
   "cell_type": "markdown",
   "id": "9d58648e",
   "metadata": {},
   "source": [
    "### Full Decoding Experiment"
   ]
  },
  {
   "cell_type": "code",
   "execution_count": 76,
   "id": "dcbaf24d",
   "metadata": {},
   "outputs": [
    {
     "name": "stderr",
     "output_type": "stream",
     "text": [
      "  0%|          | 0/8 [00:00<?, ?it/s]"
     ]
    },
    {
     "name": "stdout",
     "output_type": "stream",
     "text": [
      "Switch step: 0, kv_cache_size: 0, run_sequential: False\n"
     ]
    },
    {
     "name": "stderr",
     "output_type": "stream",
     "text": []
    },
    {
     "name": "stdout",
     "output_type": "stream",
     "text": [
      "Switch step: 0, kv_cache_size: 8, run_sequential: False\n"
     ]
    }
   ],
   "source": [
    "from experiments import create_token_tree, create_dummy_kv_cache, construct_tree_model_inputs, invert_4d_attention_mask\n",
    "from tqdm import tqdm\n",
    "import torch.utils.benchmark as benchmark\n",
    "\n",
    "\n",
    "expansion_config = [8] + [1] * 15\n",
    "\n",
    "kv_cache_max_size = 512\n",
    "num_tokens_accepted = 8\n",
    "results = {}\n",
    "sequential_cache = {}\n",
    "tree_cache = {}\n",
    "for switch_step in tqdm(range(0, 449, 64)):\n",
    "    total_time = 0\n",
    "    num_tokens_decoded = 0\n",
    "    for kv_cache_size in tqdm(range(0, kv_cache_max_size, num_tokens_accepted)):\n",
    "        token_tree = create_token_tree(\n",
    "            expansion_config=expansion_config,\n",
    "            prompt=\"The\",\n",
    "            tokenizer=tokenizer,\n",
    "            model=ssm,\n",
    "            has_kv_cache=kv_cache_size > 0\n",
    "        )\n",
    "        run_sequential = True\n",
    "        if num_tokens_decoded >= switch_step:\n",
    "            run_sequential = False\n",
    "        \n",
    "        print(f\"Switch step: {switch_step}, kv_cache_size: {kv_cache_size}, run_sequential: {run_sequential}\")\n",
    "        if run_sequential:\n",
    "            if kv_cache_size in sequential_cache:\n",
    "                measurement = sequential_cache[kv_cache_size]\n",
    "            else:\n",
    "                batch_size=np.prod(expansion_config)\n",
    "                kv_cache_sequential = create_dummy_kv_cache(\n",
    "                    kv_cache_num_tokens=kv_cache_size,\n",
    "                    batch_size=batch_size,\n",
    "                    num_attention_heads=llm.config.num_attention_heads,\n",
    "                    hidden_size=llm.config.hidden_size,\n",
    "                    num_layers=llm.config.num_hidden_layers\n",
    "                )\n",
    "                \n",
    "                timer = benchmark.Timer(\n",
    "                    stmt=\"time_normal(input_ids, model, kv_cache)\",\n",
    "                    setup=\"from experiments import time_normal\",\n",
    "                    num_threads=torch.get_num_threads(),\n",
    "                    globals={\n",
    "                        'input_ids': token_tree,\n",
    "                        'model': llm,\n",
    "                        'kv_cache': kv_cache_sequential\n",
    "                    },\n",
    "                    label=\"Sequential\"\n",
    "                )\n",
    "                measurement = timer.blocked_autorange(min_run_time=2).median\n",
    "                sequential_cache[kv_cache_size] = measurement\n",
    "        else:\n",
    "            if kv_cache_size in tree_cache:\n",
    "                measurement = tree_cache[kv_cache_size]\n",
    "            else:\n",
    "                tree_input, tree_mask, tree_position_ids = construct_tree_model_inputs(token_tree)\n",
    "\n",
    "                kv_cache_tree = create_dummy_kv_cache(\n",
    "                    kv_cache_num_tokens=kv_cache_size,\n",
    "                    batch_size=1,\n",
    "                    num_attention_heads=llm.config.num_attention_heads,\n",
    "                    hidden_size=llm.config.hidden_size,\n",
    "                    num_layers=llm.config.num_hidden_layers\n",
    "                )\n",
    "                timer = benchmark.Timer(\n",
    "                    stmt=\"time_tree(input_ids, mask, position_ids, model, kv_cache_num_tokens, kv_cache)\",\n",
    "                    setup=\"from experiments import time_tree\",\n",
    "                    num_threads=torch.get_num_threads(),\n",
    "                    globals={\n",
    "                        'input_ids': tree_input,\n",
    "                        'mask': tree_mask,\n",
    "                        'position_ids': tree_position_ids,\n",
    "                        'model': llm,\n",
    "                        'kv_cache_num_tokens': kv_cache_size,\n",
    "                        'kv_cache': kv_cache_tree\n",
    "                    },\n",
    "                    label=\"Tree\"\n",
    "                )\n",
    "                measurement = timer.blocked_autorange(min_run_time=2).median\n",
    "                tree_cache[kv_cache_size] = measurement\n",
    "        total_time += measurement\n",
    "        num_tokens_decoded += num_tokens_accepted\n",
    "    print(f\"Switch step: {switch_step}, total time: {total_time}\")\n",
    "    results[switch_step] = total_time\n",
    "\n",
    "    "
   ]
  },
  {
   "cell_type": "code",
   "execution_count": 75,
   "id": "7cda04f3",
   "metadata": {},
   "outputs": [
    {
     "data": {
      "text/plain": [
       "{0: 0.019294712133705615,\n",
       " 8: 0.018493074737489224,\n",
       " 16: 0.01855852883309126,\n",
       " 24: 0.018485596776008605,\n",
       " 32: 0.018476522900164126,\n",
       " 40: 0.018498830497264862,\n",
       " 48: 0.01850793045014143,\n",
       " 56: 0.01852269433438778,\n",
       " 64: 0.01854089219123125,\n",
       " 72: 0.018520110473036765,\n",
       " 80: 0.018564048781991006,\n",
       " 88: 0.0185483792796731,\n",
       " 96: 0.019028143398463725,\n",
       " 104: 0.0185831343755126,\n",
       " 112: 0.018501446582376957,\n",
       " 120: 0.018820739537477493,\n",
       " 128: 0.018474785983562468,\n",
       " 136: 0.01855798400938511,\n",
       " 144: 0.01835933942347765,\n",
       " 152: 0.01752457832917571,\n",
       " 160: 0.018496111780405045,\n",
       " 168: 0.018541529960930347,\n",
       " 176: 0.01851376537233591,\n",
       " 184: 0.018395432829856874}"
      ]
     },
     "execution_count": 75,
     "metadata": {},
     "output_type": "execute_result"
    }
   ],
   "source": [
    "sequential_cache"
   ]
  },
  {
   "cell_type": "code",
   "execution_count": 69,
   "id": "46b300d7",
   "metadata": {},
   "outputs": [
    {
     "data": {
      "image/png": "[encoded data removed]",
      "text/plain": [
       "<Figure size 640x480 with 1 Axes>"
      ]
     },
     "metadata": {},
     "output_type": "display_data"
    }
   ],
   "source": [
    "import matplotlib.pyplot as plt\n",
    "\n",
    "data = results\n",
    "keys = list(range(len(data)))\n",
    "values = list(data.values())\n",
    "\n",
    "# Create the bar plot\n",
    "plt.figure()\n",
    "plt.bar(keys, values)\n",
    "\n",
    "# Add title and labels\n",
    "plt.title('Llama 3B Generate 256 Tokens')\n",
    "plt.xlabel('Tree Decoding Start Step')\n",
    "plt.ylabel('Latency (s)')\n",
    "plt.ylim(min(values) - 0.4, max(values) + 0.1)\n",
    "plt.xticks(ticks=range(len(keys)), labels=[str(i) for i in range(0, 193, 32)])\n",
    "\n",
    "# Display the plot\n",
    "plt.show()"
   ]
  },
  {
   "cell_type": "code",
   "execution_count": 36,
   "id": "925b505e",
   "metadata": {},
   "outputs": [
    {
     "data": {
      "text/plain": [
       "{0: 0.017771319299936295,\n",
       " 2: 0.018579963594675064,\n",
       " 4: 0.01884776595979929,\n",
       " 6: 0.018956327624619008,\n",
       " 8: 0.018980447947978974,\n",
       " 10: 0.0189638813957572,\n",
       " 12: 0.018861678801476954,\n",
       " 14: 0.018838932923972606,\n",
       " 16: 0.018833108060061932,\n",
       " 18: 0.018817970342934132,\n",
       " 20: 0.018763555213809013,\n",
       " 22: 0.018854705803096294,\n",
       " 24: 0.01889476105570793,\n",
       " 26: 0.01887859106063843,\n",
       " 28: 0.01895089354366064,\n",
       " 30: 0.018930079601705074,\n",
       " 32: 0.01892057079821825,\n",
       " 34: 0.01885865181684494,\n",
       " 36: 0.018881631456315516,\n",
       " 38: 0.019046703912317754,\n",
       " 40: 0.018864456564188004,\n",
       " 42: 0.018599607236683368,\n",
       " 44: 0.018856633640825748,\n",
       " 46: 0.018803122267127038,\n",
       " 48: 0.018794121406972408,\n",
       " 50: 0.018799219653010367,\n",
       " 52: 0.018835098668932914,\n",
       " 54: 0.018761929124593735,\n",
       " 56: 0.018788436613976955,\n",
       " 58: 0.018927660770714283,\n",
       " 60: 0.018890326283872126,\n",
       " 62: 0.018874009139835835,\n",
       " 64: 0.018830655701458456,\n",
       " 66: 0.018838606774806976,\n",
       " 68: 0.018806563317775728,\n",
       " 70: 0.018851064331829547,\n",
       " 72: 0.018841281719505786,\n",
       " 74: 0.01877241600304842,\n",
       " 76: 0.018979286029934882,\n",
       " 78: 0.01902334615588188,\n",
       " 80: 0.01893717236816883,\n",
       " 82: 0.018963713943958283,\n",
       " 84: 0.018849531561136244,\n",
       " 86: 0.018850838579237462,\n",
       " 88: 0.018838550709187985,\n",
       " 90: 0.018874567188322543,\n",
       " 92: 0.01880282796919346,\n",
       " 94: 0.018620813824236394,\n",
       " 96: 0.01882097776979208,\n",
       " 98: 0.018904317915439606,\n",
       " 100: 0.018840685673058032,\n",
       " 102: 0.018892531655728816,\n",
       " 104: 0.018834613636136054,\n",
       " 106: 0.0189187403768301,\n",
       " 108: 0.018808213993906975,\n",
       " 110: 0.0188857801258564,\n",
       " 112: 0.01887642815709114,\n",
       " 114: 0.01891692653298378,\n",
       " 116: 0.01883935872465372,\n",
       " 118: 0.019078906252980234,\n",
       " 120: 0.018846084550023078,\n",
       " 122: 0.018905911594629288,\n",
       " 124: 0.018845129385590555,\n",
       " 126: 0.018884623795747756}"
      ]
     },
     "execution_count": 36,
     "metadata": {},
     "output_type": "execute_result"
    }
   ],
   "source": [
    "tree_cache"
   ]
  },
  {
   "cell_type": "code",
   "execution_count": null,
   "id": "6dfe9f5e",
   "metadata": {},
   "outputs": [],
   "source": []
  }
 ],
 "metadata": {
  "kernelspec": {
   "display_name": "Python 3 (ipykernel)",
   "language": "python",
   "name": "python3"
  },
  "language_info": {
   "codemirror_mode": {
    "name": "ipython",
    "version": 3
   },
   "file_extension": ".py",
   "mimetype": "text/x-python",
   "name": "python",
   "nbconvert_exporter": "python",
   "pygments_lexer": "ipython3",
   "version": "3.12.3"
  }
 },
 "nbformat": 4,
 "nbformat_minor": 5
}
